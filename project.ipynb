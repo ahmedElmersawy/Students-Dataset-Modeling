{
 "cells": [
  {
   "cell_type": "markdown",
   "metadata": {},
   "source": [
    "***\n",
    "\n",
    "Data visualization for Students\n",
    "===\n",
    "***\n"
   ]
  },
  {
   "cell_type": "code",
   "execution_count": null,
   "metadata": {},
   "outputs": [],
   "source": [
    "\n",
    "import matplotlib.pyplot as plt\n",
    "import numpy as np\n",
    "import pandas as pd\n",
    "import geopandas as gpd\n",
    "import geoplot as gplt\n",
    "import folium\n",
    "from geopy.geocoders import Nominatim\n",
    "import math\n",
    "from sklearn.model_selection import train_test_split\n",
    "from sklearn.linear_model import LogisticRegression\n",
    "from sklearn import metrics\n",
    "from sklearn.metrics import mean_squared_error\n",
    "from sklearn.preprocessing import LabelEncoder, MinMaxScaler"
   ]
  },
  {
   "cell_type": "code",
   "execution_count": null,
   "metadata": {},
   "outputs": [],
   "source": [
    "data = pd.read_csv(\"Students_data.csv\")"
   ]
  },
  {
   "cell_type": "markdown",
   "metadata": {},
   "source": [
    "#### Bar plot for Students Class Distrubtion"
   ]
  },
  {
   "cell_type": "code",
   "execution_count": null,
   "metadata": {},
   "outputs": [],
   "source": [
    "class_counts = data['class'].value_counts()\n",
    "plt.bar(class_counts.index, class_counts.values)\n",
    "plt.xlabel('Class')\n",
    "plt.ylabel('Student Numbers')\n",
    "plt.title('Class Distribution')\n",
    "plt.show()\n",
    "gender_counts = data[\"gender\"].value_counts()\n",
    "plt.pie(gender_counts, labels=gender_counts.index, autopct='%.1f%%')\n",
    "plt.title('Gender Distribution')\n",
    "plt.show()\n"
   ]
  },
  {
   "cell_type": "code",
   "execution_count": null,
   "metadata": {},
   "outputs": [],
   "source": [
    "\n",
    "plt.hist(data[\"GPA\"],bins=10 , edgecolor='blue')\n",
    "plt.xlabel(\"GPA\")\n",
    "plt.ylabel(\"Frequency\")\n",
    "plt.title(\" GPA Distribution\")\n",
    "plt.grid(True)\n",
    "plt.show()\n"
   ]
  },
  {
   "cell_type": "code",
   "execution_count": null,
   "metadata": {},
   "outputs": [],
   "source": [
    "\n",
    "plt.hist(data[\"Algebra\"],bins=10 , edgecolor='blue')\n",
    "plt.xlabel(\"Grades\")\n",
    "plt.ylabel(\"Frequency\")\n",
    "plt.title(\"Algebra grades\")\n",
    "plt.grid(True)  \n",
    "plt.show()\n"
   ]
  },
  {
   "cell_type": "code",
   "execution_count": null,
   "metadata": {},
   "outputs": [],
   "source": [
    "\n",
    "plt.hist(data[\"Calculus1\"],bins=10 , edgecolor='blue')\n",
    "plt.xlabel(\"Grades\")\n",
    "plt.ylabel(\"Frequency\")\n",
    "plt.title(\"Calculus1 grades\")\n",
    "plt.grid(True)  \n",
    "plt.show()\n"
   ]
  },
  {
   "cell_type": "code",
   "execution_count": null,
   "metadata": {},
   "outputs": [],
   "source": [
    "\n",
    "plt.hist(data[\"Calculus2\"],bins=10 , edgecolor='blue')\n",
    "plt.xlabel(\"Grades\")\n",
    "plt.ylabel(\"Frequency\")\n",
    "plt.title(\"Calculus2 grades\")\n",
    "plt.grid(True)  \n",
    "plt.show()\n"
   ]
  },
  {
   "cell_type": "code",
   "execution_count": null,
   "metadata": {},
   "outputs": [],
   "source": [
    "\n",
    "plt.hist(data[\"Statistics\"],bins=10 , edgecolor='blue')\n",
    "plt.xlabel(\"Grades\")\n",
    "plt.ylabel(\"Frequency\")\n",
    "plt.title(\"Statistics grades\")\n",
    "plt.grid(True)  \n",
    "plt.show()\n"
   ]
  },
  {
   "cell_type": "code",
   "execution_count": null,
   "metadata": {},
   "outputs": [],
   "source": [
    "\n",
    "plt.hist(data[\"Probability\"],bins=10 , edgecolor='blue')\n",
    "plt.xlabel(\"Grades\")\n",
    "plt.ylabel(\"Frequency\")\n",
    "plt.title(\"Probability grades\")\n",
    "plt.grid(True)  \n",
    "plt.show()\n"
   ]
  },
  {
   "cell_type": "code",
   "execution_count": null,
   "metadata": {},
   "outputs": [],
   "source": [
    "\n",
    "plt.hist(data[\"Measure\"],bins=10 , edgecolor='blue')\n",
    "plt.xlabel(\"Grades\")\n",
    "plt.ylabel(\"Frequency\")\n",
    "plt.title(\"Measure grades\")\n",
    "plt.grid(True)  \n",
    "plt.show()\n"
   ]
  },
  {
   "cell_type": "code",
   "execution_count": null,
   "metadata": {},
   "outputs": [],
   "source": [
    "\n",
    "plt.hist(data[\"Functional_analysis\"],bins=10 , edgecolor='blue')\n",
    "plt.xlabel(\"Grades\")\n",
    "plt.ylabel(\"Frequency\")\n",
    "plt.title(\"Functional_analysis grades\")\n",
    "plt.grid(True)  \n",
    "plt.show()\n"
   ]
  },
  {
   "cell_type": "markdown",
   "metadata": {},
   "source": [
    "\n",
    "from1 refers to Students location.\n"
   ]
  },
  {
   "cell_type": "code",
   "execution_count": null,
   "metadata": {},
   "outputs": [],
   "source": [
    "\n",
    "locations = {\n",
    "    \"A\": \"Abu Dhabi\",\n",
    "    \"B\": \"Baghdad\",\n",
    "    \"C\": \"Cairo\",\n",
    "    \"D\": \"دمنهور\",\n",
    "    \"E\": \"Erbil\",\n",
    "    \"F\": \"Faisalabad\",\n",
    "    \"G\": \"Gaza City\",\n",
    "    \"H\": \"Huston\",\n",
    "    \"I\": \"Isfahan\",\n",
    "    \"J\": \"Jeddah\",\n",
    "    \"K\": \"Karachi\",\n",
    "    \"L\": \"Luxor\",\n",
    "    \"M\": \"المحلة الكبرى\",\n",
    "    \"N\": \"المنيا\",\n",
    "    \"O\": \"Oman\",\n",
    "    \"P\": \"Petra\",\n",
    "    \"Q\": \"Qom\",\n",
    "    \"R\": \"Riyadh\",\n",
    "    \"S\": \"Sanaa\",\n",
    "    \"T\": \"Tehran\",\n",
    "    \"U\": \"Umm Qais\",\n",
    "    \"V\": \"Valiasr\",\n",
    "    \"W\": \"Wadi Rum\",\n",
    "    \"X\": \"Xanthos\",\n",
    "    \"Y\": \"Yazd\",\n",
    "    \"Z\": \"Zahedan\",\n",
    "    \"a\": \"Amsterdam\",\n",
    "    \"b\": \"Berlin\",\n",
    "    \"c\": \"Cape Town\",\n",
    "    \"d\": \"Dublin\",\n",
    "    \"e\": \"Eindhoven\",\n",
    "    \"f\": \"Fukuoka\",\n",
    "    \"g\": \"Geneva\",\n",
    "    \"h\": \"شبرا الخيمة\",\n",
    "    \"i\": \"Istanbul\",\n",
    "    \"j\": \"Jerusalem\",\n",
    "    \"k\": \"Kyoto\",\n",
    "    \"l\": \"Lisbon\",\n",
    "    \"m\": \"Marrakech\",\n",
    "    \"n\": \"Nairobi\",\n",
    "    \"o\": \"Oslo\",\n",
    "    \"p\": \"Prague\",\n",
    "    \"q\": \"Quebec City\",\n",
    "    \"r\": \"Reykjavik\",\n",
    "    \"s\": \"Seville\",\n",
    "    \"t\": \"Tunis\",\n",
    "    \"u\": \"Utrecht\",\n",
    "    \"v\": \"Vienna\",\n",
    "    \"w\": \"Wellington\",\n",
    "    \"x\": \"Xi'an\",\n",
    "    \"y\": \"Yerevan\",\n",
    "    \"z\": \"Zurich\"\n",
    "}\n",
    "\n",
    "geolocator = Nominatim(user_agent=\"from1\")\n",
    "\n",
    "coordinates = {}\n",
    "for location, address in locations.items():\n",
    "    location_coords = geolocator.geocode(address)\n",
    "    if location_coords:\n",
    "        coordinates[location] = location_coords\n",
    "    else:\n",
    "        print(f\"Failed to geocode location: {location}\")\n",
    "\n",
    "map_center = [0, 0]\n",
    "if coordinates:\n",
    "    map_center = [sum(coord.latitude for coord in coordinates.values()) / len(coordinates),\n",
    "                  sum(coord.longitude for coord in coordinates.values()) / len(coordinates)]\n",
    "\n",
    "map_obj = folium.Map(location=map_center, zoom_start=4)\n",
    "\n",
    "for index, row in data.iterrows():\n",
    "    location_name = row['from1']\n",
    "    location_coords = coordinates.get(location_name)\n",
    "    if location_coords:\n",
    "        folium.Marker(location=[location_coords.latitude, location_coords.longitude], popup=location_name).add_to(map_obj)\n",
    "\n",
    "map_obj\n"
   ]
  },
  {
   "cell_type": "markdown",
   "metadata": {},
   "source": [
    "\n",
    "### From2: a probably bad indicator for preference on mathematics\n"
   ]
  },
  {
   "cell_type": "code",
   "execution_count": null,
   "metadata": {},
   "outputs": [],
   "source": [
    "\n",
    "class_counts = data['from2'].value_counts()\n",
    "plt.bar(class_counts.index, class_counts.values)\n",
    "plt.xlabel('from2')\n",
    "plt.ylabel('Student Numbers')\n",
    "plt.title('preference on mathematics')\n",
    "plt.show()\n"
   ]
  },
  {
   "cell_type": "markdown",
   "metadata": {},
   "source": [
    "\n",
    "### From4: a probably bad indicator for family background. 0 with more wealth, 4 with more poverty\n"
   ]
  },
  {
   "cell_type": "code",
   "execution_count": null,
   "metadata": {},
   "outputs": [],
   "source": [
    "\n",
    "class_counts = data['from4'].value_counts()\n",
    "plt.bar(class_counts.index, class_counts.values)\n",
    "plt.xlabel('from4')\n",
    "plt.ylabel('Student Numbers')\n",
    "plt.title('family background')\n",
    "plt.show()\n"
   ]
  },
  {
   "cell_type": "markdown",
   "metadata": {},
   "source": [
    "\n",
    "#### The final indicator y:\n",
    "#### 0, one fails to apply for the graduate school, who may apply again or search jobs in the future\n",
    "#### 1, success, inland\n",
    "#### 2, success, abroad\n"
   ]
  },
  {
   "cell_type": "code",
   "execution_count": null,
   "metadata": {},
   "outputs": [],
   "source": [
    "\n",
    "class_counts = data['y'].value_counts()\n",
    "plt.bar(class_counts.index, class_counts.values)\n",
    "plt.xlabel('y')\n",
    "plt.ylabel('Student Numbers')\n",
    "plt.title('graduate school')\n",
    "plt.show()"
   ]
  },
  {
   "cell_type": "markdown",
   "metadata": {},
   "source": [
    "***\n",
    "\n",
    "Data Analysis\n",
    "===\n",
    "***\n"
   ]
  },
  {
   "cell_type": "code",
   "execution_count": null,
   "metadata": {},
   "outputs": [],
   "source": [
    "average_gpa_all_students = data['GPA'].mean()\n",
    "print(\"Average GPA of all students:\", average_gpa_all_students)\n",
    "μ = average_gpa_all_students"
   ]
  },
  {
   "cell_type": "markdown",
   "metadata": {},
   "source": [
    "\n",
    "checking the effect of form1 (home location) on the students GPA\n"
   ]
  },
  {
   "cell_type": "code",
   "execution_count": null,
   "metadata": {},
   "outputs": [],
   "source": [
    "\n",
    "average_gpa_by_category = data.groupby(\"from1\")[\"GPA\"].agg(['mean', 'std', 'size'])\n",
    "average_gpa_by_category.columns = ['Average GPA', 'Standard Deviation', 'Number of Entries']\n",
    "average_gpa_by_category_sorted = average_gpa_by_category.sort_values(by='Number of Entries', ascending=False)\n",
    "print(average_gpa_by_category_sorted)"
   ]
  },
  {
   "cell_type": "markdown",
   "metadata": {},
   "source": [
    "\n",
    "Null Hypothesis: the average GPA of the students with near-home locations (B) is more than or equal to the average GPA μ ≥ 82.957047\n",
    "Alternative Hypothesis: the near-home students have a GPA lower than the average GPA  μ < 82.957047\n",
    "Level of significance: 𝛼 = 0.025 , degree_of_freedom = 8  --> t =  -2.306\n",
    "Decision: Since t = -0.2184343079750918 is greater than -1.645, The test statistic falls in the nonrejection region, so 𝐻𝑜 is not rejected.\n",
    "At the 2.5% level of significance, there is not enough evidence to reject the claim that\n",
    "the average GPA of near-home location students is more than or equal to the average one (82.957047)\n"
   ]
  },
  {
   "cell_type": "code",
   "execution_count": null,
   "metadata": {},
   "outputs": [],
   "source": [
    "\n",
    "x = 82.565556\n",
    "s = 5.376779\n",
    "N = 9\n",
    "t = (x - μ) / (s / math.sqrt(N))\n",
    "print(\"t-score:\", t)"
   ]
  },
  {
   "cell_type": "markdown",
   "metadata": {},
   "source": [
    "\n",
    "checking the effect of form2 (preferring maths) on the students GPA\n"
   ]
  },
  {
   "cell_type": "code",
   "execution_count": null,
   "metadata": {},
   "outputs": [],
   "source": [
    "\n",
    "average_gpa_by_category = data.groupby(\"from2\")[\"GPA\"].agg(['mean', 'std', 'size'])\n",
    "average_gpa_by_category.columns = ['Average GPA', 'Standard Deviation', 'Number of Entries']\n",
    "average_gpa_by_category_sorted = average_gpa_by_category.sort_values(by='Average GPA', ascending=False)\n",
    "print(average_gpa_by_category_sorted)"
   ]
  },
  {
   "cell_type": "markdown",
   "metadata": {},
   "source": [
    "\n",
    "Null Hypothesis: the average GPA of the students who don't prefer mathematics is less than or equal to the average GPA μ ≤ 82.957047\n",
    "\n",
    "Alternative Hypothesis: the students who don't prefer maths have a GPA higher than the average GPA  μ > 82.957047\n",
    "\n",
    "level of significance: α = 0.05  -->  Z = 1.645  \n",
    "\n",
    "Decision: Since Z = 0.5547304794075413 is less than 1.645, The test statistic falls in the nonrejection region, so 𝐻𝑜 is not rejected.\n",
    "\n",
    "At the 5% level of significance, there is not enough evidence to reject the claim that\n",
    "the average GPA of students who don't prefer mathematics is more than or equal to the average ones (82.957047)\n"
   ]
  },
  {
   "cell_type": "code",
   "execution_count": null,
   "metadata": {},
   "outputs": [],
   "source": [
    "\n",
    "x = 83.367534\n",
    "σ = 6.322354 \n",
    "N = 73\n",
    "Z = (x - μ) / (σ / math.sqrt(N))\n",
    "print(\"Z-score:\", Z)"
   ]
  },
  {
   "cell_type": "markdown",
   "metadata": {},
   "source": [
    "\n",
    "checking the effect of form3 (students application) on the students GPA"
   ]
  },
  {
   "cell_type": "code",
   "execution_count": null,
   "metadata": {},
   "outputs": [],
   "source": [
    "\n",
    "average_gpa_by_category = data.groupby(\"from3\")[\"GPA\"].agg(['mean', 'std', 'size'])\n",
    "average_gpa_by_category.columns = ['Average GPA', 'Standard Deviation', 'Number of Entries']\n",
    "average_gpa_by_category_sorted = average_gpa_by_category.sort_values(by='Average GPA', ascending=False)\n",
    "print(average_gpa_by_category_sorted)"
   ]
  },
  {
   "cell_type": "markdown",
   "metadata": {},
   "source": [
    "\n",
    "Null Hypothesis: the average GPA of the students category A is less than or equal to the average GPA μ ≤ 82.\n",
    "\n",
    "Alternative Hypothesis: the students of category A have a GPA higher than the average GPA  μ > 82.957047\n",
    "level of significance: α ≤ 0.05  -->  Z = -1.645  \n",
    "\n",
    "Decision: Since Z = 0.18465268348992786 is greater than -1.645, The test statistic falls in the nonrejection region, so 𝐻𝑜 is not rejected.\n",
    "\n",
    "At the 5% level of significance, there is not enough evidence to reject the claim that\n",
    "the average GPA of rich students is more than or equal to the average ones (82.957047)\n"
   ]
  },
  {
   "cell_type": "code",
   "execution_count": null,
   "metadata": {},
   "outputs": [],
   "source": [
    "\n",
    "x = 83.543333\n",
    "σ = 5.144532\n",
    "N = 81\n",
    "Z = (x - μ) / (σ / math.sqrt(N))\n",
    "print(\"Z-score:\", Z)"
   ]
  },
  {
   "cell_type": "markdown",
   "metadata": {},
   "source": [
    "\n",
    "checking the effect of form4 (family wealth) on the students GPA\n"
   ]
  },
  {
   "cell_type": "code",
   "execution_count": null,
   "metadata": {},
   "outputs": [],
   "source": [
    "\n",
    "average_gpa_by_category = data.groupby(\"from4\")[\"GPA\"].agg(['mean', 'std', 'size'])\n",
    "average_gpa_by_category.columns = ['Average GPA', 'Standard Deviation', 'Number of Entries']\n",
    "average_gpa_by_category_sorted = average_gpa_by_category.sort_values(by='Average GPA', ascending=False)\n",
    "print(average_gpa_by_category_sorted)"
   ]
  },
  {
   "cell_type": "markdown",
   "metadata": {},
   "source": [
    "\n",
    "Null Hypothesis: the average GPA of the rich students is more than or equal to the average GPA μ ≥ 82.957047\n",
    "\n",
    "Alternative Hypothesis: the rich students have a GPA lower than the average GPA  μ < 82.957047\n",
    "\n",
    "level of significance: α ≤ 0.05  -->  Z = -1.645  \n",
    "\n",
    "Decision: Since Z = 0.18465268348992786 is greater than -1.645, The test statistic falls in the nonrejection region, so 𝐻𝑜 is not rejected.\n",
    "\n",
    "At the 5% level of significance, there is not enough evidence to reject the claim that\n",
    "the average GPA of rich students is more than or equal to the average ones (82.957047)\n"
   ]
  },
  {
   "cell_type": "code",
   "execution_count": null,
   "metadata": {},
   "outputs": [],
   "source": [
    "\n",
    "x = 83.082532\n",
    "σ = 6.040178\n",
    "N = 79\n",
    "Z = (x - μ) / (σ / math.sqrt(N))\n",
    "print(\"Z-score:\", Z)"
   ]
  },
  {
   "cell_type": "markdown",
   "metadata": {},
   "source": [
    "***\n",
    "\n",
    "Data Regression\n",
    "===\n",
    "***\n",
    "\n",
    "# Predicting y Column Using Logistic Regression"
   ]
  },
  {
   "cell_type": "markdown",
   "metadata": {},
   "source": [
    "### Step 2: Loading and Encoding Data"
   ]
  },
  {
   "cell_type": "code",
   "execution_count": null,
   "metadata": {},
   "outputs": [],
   "source": [
    "\n",
    "data = pd.read_csv('Students_data.csv')\n",
    "\n",
    "labelencoder = LabelEncoder()\n",
    "for feature in ['from1', 'from2', 'from3', 'from4']:\n",
    "    data[feature] = labelencoder.fit_transform(data[feature])"
   ]
  },
  {
   "cell_type": "markdown",
   "metadata": {},
   "source": [
    "### Step 3: Choosing Features and Target Variable"
   ]
  },
  {
   "cell_type": "code",
   "execution_count": null,
   "metadata": {},
   "outputs": [],
   "source": [
    "\n",
    "# Choosing features and target variable\n",
    "features = ['from1', 'from2', 'from3', 'from4']\n",
    "X = data[features]\n",
    "y = data['y']"
   ]
  },
  {
   "cell_type": "markdown",
   "metadata": {},
   "source": [
    "### Step 4: Normalizing the Data"
   ]
  },
  {
   "cell_type": "code",
   "execution_count": null,
   "metadata": {},
   "outputs": [],
   "source": [
    "\n",
    "# Normalizing the data\n",
    "scaler = MinMaxScaler()\n",
    "X = pd.DataFrame(scaler.fit_transform(X), columns=X.columns)"
   ]
  },
  {
   "cell_type": "markdown",
   "metadata": {},
   "source": [
    "### Step 5: Splitting Data into Training and Testing Sets"
   ]
  },
  {
   "cell_type": "code",
   "execution_count": null,
   "metadata": {},
   "outputs": [],
   "source": [
    "\n",
    "X_train, X_test, y_train, y_test = train_test_split(X, y, test_size=0.2, random_state=0)"
   ]
  },
  {
   "cell_type": "markdown",
   "metadata": {},
   "source": [
    "\n",
    "### Step 6: Training a Logistic Regression Model"
   ]
  },
  {
   "cell_type": "code",
   "execution_count": null,
   "metadata": {},
   "outputs": [],
   "source": [
    "\n",
    "# Instantiating the model\n",
    "logReg = LogisticRegression()\n",
    "\n",
    "# Fitting the model\n",
    "logReg.fit(X_train, y_train)\n"
   ]
  },
  {
   "cell_type": "markdown",
   "metadata": {},
   "source": [
    "#### Step 7: Making Predictions and Calculating Accuracy and Mean Squared Error"
   ]
  },
  {
   "cell_type": "code",
   "execution_count": null,
   "metadata": {},
   "outputs": [],
   "source": [
    "\n",
    "# Making predictions\n",
    "y_pred = logReg.predict(X_test)\n",
    "\n",
    "# Calculating accuracy\n",
    "accuracy = metrics.accuracy_score(y_test, y_pred)\n",
    "print(f'Accuracy: {accuracy*100}%')\n",
    "\n",
    "# Calculating Mean Squared Error\n",
    "mse = mean_squared_error(y_test, y_pred)\n",
    "print(f'Mean Squared Error: {mse}')\n"
   ]
  },
  {
   "cell_type": "markdown",
   "metadata": {},
   "source": [
    "\n",
    "#### Step 8: Plotting Actual and Predicted Observations for Each Feature\n"
   ]
  },
  {
   "cell_type": "code",
   "execution_count": null,
   "metadata": {},
   "outputs": [],
   "source": [
    "\n",
    "# Plotting results\n",
    "for feature in features:\n",
    "    fig, ax = plt.subplots()\n",
    "    ax.scatter(X_test[feature], y_test, color='blue', label='Actual')\n",
    "    ax.scatter(X_test[feature], y_pred, color='red', label='Predicted')\n",
    "    ax.set_title(f'{feature} vs y')\n",
    "    ax.set_xlabel(feature)\n",
    "    ax.set_ylabel('y')\n",
    "    ax.legend()\n",
    "    plt.show()"
   ]
  }
 ],
 "metadata": {
  "kernelspec": {
   "display_name": "Python 3",
   "language": "python",
   "name": "python3"
  },
  "language_info": {
   "codemirror_mode": {
    "name": "ipython",
    "version": 3
   },
   "file_extension": ".py",
   "mimetype": "text/x-python",
   "name": "python",
   "nbconvert_exporter": "python",
   "pygments_lexer": "ipython3",
   "version": "3.9.6"
  }
 },
 "nbformat": 4,
 "nbformat_minor": 2
}
