{
 "cells": [
  {
   "cell_type": "code",
   "execution_count": 1,
   "id": "d3631975-8ef0-41cb-af75-b3f859f7966e",
   "metadata": {},
   "outputs": [
    {
     "name": "stdout",
     "output_type": "stream",
     "text": [
      "Average GPA of all students: 82.95704761904761\n"
     ]
    }
   ],
   "source": [
    "import pandas as pd\n",
    "import math\n",
    "csv_file = \"Students_data.csv\"\n",
    "data = pd.read_csv(csv_file)\n",
    "average_gpa_all_students = data['GPA'].mean()\n",
    "print(\"Average GPA of all students:\", average_gpa_all_students)\n",
    "μ = average_gpa_all_students"
   ]
  },
  {
   "cell_type": "code",
   "execution_count": 2,
   "id": "0f7a70c7-1649-4b7b-adac-2350c9db0fcc",
   "metadata": {},
   "outputs": [
    {
     "name": "stdout",
     "output_type": "stream",
     "text": [
      "       Average GPA  Standard Deviation  Number of Entries\n",
      "from1                                                    \n",
      "B        82.565556            5.376779                  9\n",
      "E        82.941111            6.202666                  9\n",
      "P        83.386250            5.151829                  8\n",
      "X        84.370000            3.363936                  7\n",
      "K        85.078333            5.791626                  6\n",
      "M        85.360000            7.041907                  5\n",
      "N        82.996000            4.367205                  5\n",
      "J        83.600000            4.032675                  4\n",
      "U        85.897500            2.182573                  4\n",
      "S        85.332500            4.820590                  4\n",
      "A        83.800000            7.231012                  4\n",
      "F        77.910000            8.788758                  4\n",
      "H        73.127500            5.685106                  4\n",
      "I        77.610000            1.904022                  3\n",
      "T        77.636667           12.922393                  3\n",
      "O        81.393333            4.782869                  3\n",
      "C        80.156667           10.033356                  3\n",
      "Y        90.510000            1.555635                  2\n",
      "W        84.850000            0.212132                  2\n",
      "V        87.810000            0.056569                  2\n",
      "R        86.295000            1.421285                  2\n",
      "D        77.090000            5.939697                  2\n",
      "Q        83.375000            0.940452                  2\n",
      "G        79.090000            2.800143                  2\n",
      "AA       89.840000            1.838478                  2\n",
      "Z        87.225000            6.611448                  2\n",
      "AB       88.100000                 NaN                  1\n",
      "L        81.670000                 NaN                  1\n"
     ]
    }
   ],
   "source": [
    "# ************* checking the effect of form1 (home location) on the students GPA ****************\n",
    "average_gpa_by_category = data.groupby(\"from1\")[\"GPA\"].agg(['mean', 'std', 'size'])\n",
    "average_gpa_by_category.columns = ['Average GPA', 'Standard Deviation', 'Number of Entries']\n",
    "average_gpa_by_category_sorted = average_gpa_by_category.sort_values(by='Number of Entries', ascending=False)\n",
    "print(average_gpa_by_category_sorted)"
   ]
  },
  {
   "cell_type": "raw",
   "id": "6df5a239-8011-4b20-895c-8f067e667606",
   "metadata": {},
   "source": [
    "Null Hypothesis: the average GPA of the students with home locations at Baghdad (B) is more than or equal to the average GPA μ ≥ 82.957047\n",
    "Alternative Hypothesis: the students with home locations at Baghdad (B) have a GPA lower than the average GPA  μ < 82.957047\n",
    "Level of significance: 𝛼 = 0.025 , degree_of_freedom = 8  --> t =  -2.306\n",
    "Decision: Since t = -0.2184343079750918 is greater than -1.645, The test statistic falls in the nonrejection region, so 𝐻𝑜 is not rejected.\n",
    "At the 2.5% level of significance, there is not enough evidence to reject the claim that\n",
    "the average GPA of students with home locations at Baghdad (B) is more than or equal to the average one (82.957047)"
   ]
  },
  {
   "cell_type": "code",
   "execution_count": 3,
   "id": "8134217f-9833-4834-9e55-6b3aa34807b4",
   "metadata": {},
   "outputs": [
    {
     "name": "stdout",
     "output_type": "stream",
     "text": [
      "t-score: -0.21843465337571813\n"
     ]
    }
   ],
   "source": [
    "x = 82.565556\n",
    "s = 5.376779\n",
    "N = 9\n",
    "t = (x - μ) / (s / math.sqrt(N))\n",
    "print(\"t-score:\", t)"
   ]
  },
  {
   "cell_type": "code",
   "execution_count": 4,
   "id": "0f66bcdc-d994-4b76-bf50-05e9b36d507e",
   "metadata": {},
   "outputs": [
    {
     "name": "stdout",
     "output_type": "stream",
     "text": [
      "       Average GPA  Standard Deviation  Number of Entries\n",
      "from2                                                    \n",
      "B        83.367534            6.322354                 73\n",
      "A        82.020625            5.365105                 32\n"
     ]
    }
   ],
   "source": [
    "# ************* checking the effect of form2 (preferring maths) on the students GPA ****************\n",
    "average_gpa_by_category = data.groupby(\"from2\")[\"GPA\"].agg(['mean', 'std', 'size'])\n",
    "average_gpa_by_category.columns = ['Average GPA', 'Standard Deviation', 'Number of Entries']\n",
    "average_gpa_by_category_sorted = average_gpa_by_category.sort_values(by='Average GPA', ascending=False)\n",
    "print(average_gpa_by_category_sorted)"
   ]
  },
  {
   "cell_type": "raw",
   "id": "38a264f6-b0bf-4b08-b564-a766b7395a1f",
   "metadata": {},
   "source": [
    "Null Hypothesis: the average GPA of the students who don't prefer mathematics is less than or equal to the average GPA μ ≤ 82.957047\n",
    "Alternative Hypothesis: the students who don't prefer maths have a GPA higher than the average GPA  μ > 82.957047\n",
    "level of significance: α = 0.05  -->  Z = 1.645  \n",
    "Decision: Since Z = 0.5547304794075413 is less than 1.645, The test statistic falls in the nonrejection region, so 𝐻𝑜 is not rejected.\n",
    "At the 5% level of significance, there is not enough evidence to reject the claim that\n",
    "the average GPA of students who don't prefer mathematics is more than or equal to the average ones (82.957047)"
   ]
  },
  {
   "cell_type": "code",
   "execution_count": 5,
   "id": "344564aa-523e-4a6a-a396-c69a4a1301fc",
   "metadata": {},
   "outputs": [
    {
     "name": "stdout",
     "output_type": "stream",
     "text": [
      "Z-score: 0.5547296428290911\n"
     ]
    }
   ],
   "source": [
    "x = 83.367534\n",
    "σ = 6.322354 \n",
    "N = 73\n",
    "Z = (x - μ) / (σ / math.sqrt(N))\n",
    "print(\"Z-score:\", Z)"
   ]
  },
  {
   "cell_type": "code",
   "execution_count": 8,
   "id": "de3950b5-3295-47ab-a243-749877cbe2b7",
   "metadata": {},
   "outputs": [
    {
     "name": "stdout",
     "output_type": "stream",
     "text": [
      "       Average GPA  Standard Deviation  Number of Entries\n",
      "from4                                                    \n",
      "0        83.082532            6.040178                 79\n",
      "2        82.940000            6.033530                 25\n",
      "3        73.470000                 NaN                  1\n"
     ]
    }
   ],
   "source": [
    "# ************* checking the effect of form4 (family wealth) on the students GPA ****************\n",
    "average_gpa_by_category = data.groupby(\"from4\")[\"GPA\"].agg(['mean', 'std', 'size'])\n",
    "average_gpa_by_category.columns = ['Average GPA', 'Standard Deviation', 'Number of Entries']\n",
    "average_gpa_by_category_sorted = average_gpa_by_category.sort_values(by='Average GPA', ascending=False)\n",
    "print(average_gpa_by_category_sorted)"
   ]
  },
  {
   "cell_type": "raw",
   "id": "0bcc4729-07e6-4bb1-889f-11995f049b88",
   "metadata": {},
   "source": [
    "Null Hypothesis: the average GPA of the rich students is more than or equal to the average GPA μ ≥ 82.957047\n",
    "Alternative Hypothesis: the rich students have a GPA lower than the average GPA  μ < 82.957047\n",
    "level of significance: α ≤ 0.05  -->  Z = -1.645  \n",
    "Decision: Since Z = 0.18465268348992786 is greater than -1.645, The test statistic falls in the nonrejection region, so 𝐻𝑜 is not rejected.\n",
    "At the 5% level of significance, there is not enough evidence to reject the claim that\n",
    "the average GPA of rich students is more than or equal to the average ones (82.957047)"
   ]
  },
  {
   "cell_type": "code",
   "execution_count": 9,
   "id": "d8c5b249-ca99-410f-9b46-7382b3864824",
   "metadata": {},
   "outputs": [
    {
     "name": "stdout",
     "output_type": "stream",
     "text": [
      "Z-score: 0.18465177255393828\n"
     ]
    }
   ],
   "source": [
    "x = 83.082532\n",
    "σ = 6.040178\n",
    "N = 79\n",
    "Z = (x - μ) / (σ / math.sqrt(N))\n",
    "print(\"Z-score:\", Z)"
   ]
  }
 ],
 "metadata": {
  "kernelspec": {
   "display_name": "Python 3 (ipykernel)",
   "language": "python",
   "name": "python3"
  },
  "language_info": {
   "codemirror_mode": {
    "name": "ipython",
    "version": 3
   },
   "file_extension": ".py",
   "mimetype": "text/x-python",
   "name": "python",
   "nbconvert_exporter": "python",
   "pygments_lexer": "ipython3",
   "version": "3.12.2"
  }
 },
 "nbformat": 4,
 "nbformat_minor": 5
}
